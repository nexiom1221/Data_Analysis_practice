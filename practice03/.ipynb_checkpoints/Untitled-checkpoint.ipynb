{
 "cells": [
  {
   "cell_type": "code",
   "execution_count": 9,
   "metadata": {},
   "outputs": [
    {
     "data": {
      "text/plain": [
       "Index(['선수명', '팀명', '승', '패', '세', '홀드', '블론', '경기', '선발', '이닝', '삼진/9',\n",
       "       '볼넷/9', '홈런/9', 'BABIP', 'LOB%', 'ERA', 'RA9-WAR', 'FIP', 'kFIP', 'WAR',\n",
       "       '연봉(2018)', '연봉(2017)'],\n",
       "      dtype='object')"
      ]
     },
     "execution_count": 9,
     "metadata": {},
     "output_type": "execute_result"
    }
   ],
   "source": [
    "%matplotlib inline\n",
    "\n",
    "import pandas as pd\n",
    "import numpy as np\n",
    "import matplotlib.pyplot as plt\n",
    "\n",
    "# Data Source : http://www.statiz.co.kr/\n",
    "picher_file_path = '../data/picher_stats_2017.csv'\n",
    "batter_file_path = '../data/batter_stats_2017.csv'\n",
    "picher = pd.read_csv(picher_file_path)\n",
    "batter = pd.read_csv(batter_file_path)\n",
    "plt.rc('font', family='Malgun Gothic')\n",
    "\n",
    "picher.columns"
   ]
  },
  {
   "cell_type": "code",
   "execution_count": 10,
   "metadata": {
    "scrolled": true
   },
   "outputs": [
    {
     "data": {
      "text/html": [
       "<div>\n",
       "<style scoped>\n",
       "    .dataframe tbody tr th:only-of-type {\n",
       "        vertical-align: middle;\n",
       "    }\n",
       "\n",
       "    .dataframe tbody tr th {\n",
       "        vertical-align: top;\n",
       "    }\n",
       "\n",
       "    .dataframe thead th {\n",
       "        text-align: right;\n",
       "    }\n",
       "</style>\n",
       "<table border=\"1\" class=\"dataframe\">\n",
       "  <thead>\n",
       "    <tr style=\"text-align: right;\">\n",
       "      <th></th>\n",
       "      <th>선수명</th>\n",
       "      <th>팀명</th>\n",
       "      <th>승</th>\n",
       "      <th>패</th>\n",
       "      <th>세</th>\n",
       "      <th>홀드</th>\n",
       "      <th>블론</th>\n",
       "      <th>경기</th>\n",
       "      <th>선발</th>\n",
       "      <th>이닝</th>\n",
       "      <th>...</th>\n",
       "      <th>홈런/9</th>\n",
       "      <th>BABIP</th>\n",
       "      <th>LOB%</th>\n",
       "      <th>ERA</th>\n",
       "      <th>RA9-WAR</th>\n",
       "      <th>FIP</th>\n",
       "      <th>kFIP</th>\n",
       "      <th>WAR</th>\n",
       "      <th>연봉(2018)</th>\n",
       "      <th>연봉(2017)</th>\n",
       "    </tr>\n",
       "  </thead>\n",
       "  <tbody>\n",
       "    <tr>\n",
       "      <th>0</th>\n",
       "      <td>켈리</td>\n",
       "      <td>SK</td>\n",
       "      <td>16</td>\n",
       "      <td>7</td>\n",
       "      <td>0</td>\n",
       "      <td>0</td>\n",
       "      <td>0</td>\n",
       "      <td>30</td>\n",
       "      <td>30</td>\n",
       "      <td>190.0</td>\n",
       "      <td>...</td>\n",
       "      <td>0.76</td>\n",
       "      <td>0.342</td>\n",
       "      <td>73.7</td>\n",
       "      <td>3.60</td>\n",
       "      <td>6.91</td>\n",
       "      <td>3.69</td>\n",
       "      <td>3.44</td>\n",
       "      <td>6.62</td>\n",
       "      <td>140000</td>\n",
       "      <td>85000</td>\n",
       "    </tr>\n",
       "    <tr>\n",
       "      <th>1</th>\n",
       "      <td>소사</td>\n",
       "      <td>LG</td>\n",
       "      <td>11</td>\n",
       "      <td>11</td>\n",
       "      <td>1</td>\n",
       "      <td>0</td>\n",
       "      <td>0</td>\n",
       "      <td>30</td>\n",
       "      <td>29</td>\n",
       "      <td>185.1</td>\n",
       "      <td>...</td>\n",
       "      <td>0.53</td>\n",
       "      <td>0.319</td>\n",
       "      <td>67.1</td>\n",
       "      <td>3.88</td>\n",
       "      <td>6.80</td>\n",
       "      <td>3.52</td>\n",
       "      <td>3.41</td>\n",
       "      <td>6.08</td>\n",
       "      <td>120000</td>\n",
       "      <td>50000</td>\n",
       "    </tr>\n",
       "    <tr>\n",
       "      <th>2</th>\n",
       "      <td>양현종</td>\n",
       "      <td>KIA</td>\n",
       "      <td>20</td>\n",
       "      <td>6</td>\n",
       "      <td>0</td>\n",
       "      <td>0</td>\n",
       "      <td>0</td>\n",
       "      <td>31</td>\n",
       "      <td>31</td>\n",
       "      <td>193.1</td>\n",
       "      <td>...</td>\n",
       "      <td>0.79</td>\n",
       "      <td>0.332</td>\n",
       "      <td>72.1</td>\n",
       "      <td>3.44</td>\n",
       "      <td>6.54</td>\n",
       "      <td>3.94</td>\n",
       "      <td>3.82</td>\n",
       "      <td>5.64</td>\n",
       "      <td>230000</td>\n",
       "      <td>150000</td>\n",
       "    </tr>\n",
       "    <tr>\n",
       "      <th>3</th>\n",
       "      <td>차우찬</td>\n",
       "      <td>LG</td>\n",
       "      <td>10</td>\n",
       "      <td>7</td>\n",
       "      <td>0</td>\n",
       "      <td>0</td>\n",
       "      <td>0</td>\n",
       "      <td>28</td>\n",
       "      <td>28</td>\n",
       "      <td>175.2</td>\n",
       "      <td>...</td>\n",
       "      <td>1.02</td>\n",
       "      <td>0.298</td>\n",
       "      <td>75.0</td>\n",
       "      <td>3.43</td>\n",
       "      <td>6.11</td>\n",
       "      <td>4.20</td>\n",
       "      <td>4.03</td>\n",
       "      <td>4.63</td>\n",
       "      <td>100000</td>\n",
       "      <td>100000</td>\n",
       "    </tr>\n",
       "    <tr>\n",
       "      <th>4</th>\n",
       "      <td>레일리</td>\n",
       "      <td>롯데</td>\n",
       "      <td>13</td>\n",
       "      <td>7</td>\n",
       "      <td>0</td>\n",
       "      <td>0</td>\n",
       "      <td>0</td>\n",
       "      <td>30</td>\n",
       "      <td>30</td>\n",
       "      <td>187.1</td>\n",
       "      <td>...</td>\n",
       "      <td>0.91</td>\n",
       "      <td>0.323</td>\n",
       "      <td>74.1</td>\n",
       "      <td>3.80</td>\n",
       "      <td>6.13</td>\n",
       "      <td>4.36</td>\n",
       "      <td>4.31</td>\n",
       "      <td>4.38</td>\n",
       "      <td>111000</td>\n",
       "      <td>85000</td>\n",
       "    </tr>\n",
       "  </tbody>\n",
       "</table>\n",
       "<p>5 rows × 22 columns</p>\n",
       "</div>"
      ],
      "text/plain": [
       "   선수명   팀명   승   패  세  홀드  블론  경기  선발     이닝  ...  홈런/9  BABIP  LOB%   ERA  \\\n",
       "0   켈리   SK  16   7  0   0   0  30  30  190.0  ...  0.76  0.342  73.7  3.60   \n",
       "1   소사   LG  11  11  1   0   0  30  29  185.1  ...  0.53  0.319  67.1  3.88   \n",
       "2  양현종  KIA  20   6  0   0   0  31  31  193.1  ...  0.79  0.332  72.1  3.44   \n",
       "3  차우찬   LG  10   7  0   0   0  28  28  175.2  ...  1.02  0.298  75.0  3.43   \n",
       "4  레일리   롯데  13   7  0   0   0  30  30  187.1  ...  0.91  0.323  74.1  3.80   \n",
       "\n",
       "   RA9-WAR   FIP  kFIP   WAR  연봉(2018)  연봉(2017)  \n",
       "0     6.91  3.69  3.44  6.62    140000     85000  \n",
       "1     6.80  3.52  3.41  6.08    120000     50000  \n",
       "2     6.54  3.94  3.82  5.64    230000    150000  \n",
       "3     6.11  4.20  4.03  4.63    100000    100000  \n",
       "4     6.13  4.36  4.31  4.38    111000     85000  \n",
       "\n",
       "[5 rows x 22 columns]"
      ]
     },
     "execution_count": 10,
     "metadata": {},
     "output_type": "execute_result"
    }
   ],
   "source": [
    "picher.head()"
   ]
  },
  {
   "cell_type": "code",
   "execution_count": 11,
   "metadata": {},
   "outputs": [
    {
     "name": "stdout",
     "output_type": "stream",
     "text": [
      "(152, 22)\n"
     ]
    }
   ],
   "source": [
    "print(picher.shape)"
   ]
  },
  {
   "cell_type": "code",
   "execution_count": 12,
   "metadata": {},
   "outputs": [
    {
     "data": {
      "text/plain": [
       "count       152.000000\n",
       "mean      18932.236842\n",
       "std       30940.732924\n",
       "min        2700.000000\n",
       "25%        4000.000000\n",
       "50%        7550.000000\n",
       "75%       18500.000000\n",
       "max      230000.000000\n",
       "Name: 연봉(2018), dtype: float64"
      ]
     },
     "execution_count": 12,
     "metadata": {},
     "output_type": "execute_result"
    }
   ],
   "source": [
    "picher['연봉(2018)'].describe()"
   ]
  },
  {
   "cell_type": "code",
   "execution_count": 13,
   "metadata": {},
   "outputs": [
    {
     "data": {
      "text/plain": [
       "<matplotlib.axes._subplots.AxesSubplot at 0x1d2c1f4d908>"
      ]
     },
     "execution_count": 13,
     "metadata": {},
     "output_type": "execute_result"
    },
    {
     "data": {
      "image/png": "[encoded data removed]",
      "text/plain": [
       "<Figure size 432x288 with 1 Axes>"
      ]
     },
     "metadata": {
      "needs_background": "light"
     },
     "output_type": "display_data"
    }
   ],
   "source": [
    "picher['연봉(2018)'].hist(bins=100)"
   ]
  },
  {
   "cell_type": "code",
   "execution_count": 14,
   "metadata": {
    "scrolled": true
   },
   "outputs": [
    {
     "data": {
      "text/plain": [
       "<matplotlib.axes._subplots.AxesSubplot at 0x1d2c23fdbc8>"
      ]
     },
     "execution_count": 14,
     "metadata": {},
     "output_type": "execute_result"
    },
    {
     "data": {
      "image/png": "[encoded data removed]",
      "text/plain": [
       "<Figure size 432x288 with 1 Axes>"
      ]
     },
     "metadata": {
      "needs_background": "light"
     },
     "output_type": "display_data"
    }
   ],
   "source": [
    "picher.boxplot(column=['연봉(2018)'])"
   ]
  },
  {
   "cell_type": "code",
   "execution_count": 29,
   "metadata": {},
   "outputs": [
    {
     "data": {
      "image/png": "[encoded data removed]",
      "text/plain": [
       "<Figure size 1440x1152 with 20 Axes>"
      ]
     },
     "metadata": {
      "needs_background": "light"
     },
     "output_type": "display_data"
    }
   ],
   "source": [
    "picher_features_df = picher[['승', '패', '세', '홀드', '블론', '경기', '선발', '이닝', '삼진/9',\n",
    "       '볼넷/9', '홈런/9', 'BABIP', 'LOB%', 'ERA', 'RA9-WAR', 'FIP', 'kFIP', 'WAR',\n",
    "       '연봉(2018)', '연봉(2017)']]\n",
    "\n",
    "#히스토그램 출력\n",
    "def plot_hist_each_column(df):\n",
    "    plt.rcParams['figure.figsize'] = [20, 16]\n",
    "fig = plt.figure(1)\n",
    "\n",
    "# df의 열 개수 만큼 subplot 출력\n",
    "for i in range(len(df.columns)):\n",
    "    ax = fig.add_subplot(5, 5, i+1)\n",
    "    plt.hist(df[df.columns[i]], bins=50)\n",
    "    ax.set_title(df.columns[i])\n",
    "    \n",
    "plt.show()\n",
    "\n",
    "plot_hist_each_column(picher_features_df)"
   ]
  },
  {
   "cell_type": "code",
   "execution_count": 32,
   "metadata": {
    "scrolled": true
   },
   "outputs": [
    {
     "data": {
      "text/html": [
       "<div>\n",
       "<style scoped>\n",
       "    .dataframe tbody tr th:only-of-type {\n",
       "        vertical-align: middle;\n",
       "    }\n",
       "\n",
       "    .dataframe tbody tr th {\n",
       "        vertical-align: top;\n",
       "    }\n",
       "\n",
       "    .dataframe thead th {\n",
       "        text-align: right;\n",
       "    }\n",
       "</style>\n",
       "<table border=\"1\" class=\"dataframe\">\n",
       "  <thead>\n",
       "    <tr style=\"text-align: right;\">\n",
       "      <th></th>\n",
       "      <th>선수명</th>\n",
       "      <th>팀명</th>\n",
       "      <th>승</th>\n",
       "      <th>패</th>\n",
       "      <th>세</th>\n",
       "      <th>홀드</th>\n",
       "      <th>블론</th>\n",
       "      <th>경기</th>\n",
       "      <th>선발</th>\n",
       "      <th>이닝</th>\n",
       "      <th>...</th>\n",
       "      <th>홈런/9</th>\n",
       "      <th>BABIP</th>\n",
       "      <th>LOB%</th>\n",
       "      <th>ERA</th>\n",
       "      <th>RA9-WAR</th>\n",
       "      <th>FIP</th>\n",
       "      <th>kFIP</th>\n",
       "      <th>WAR</th>\n",
       "      <th>y</th>\n",
       "      <th>연봉(2017)</th>\n",
       "    </tr>\n",
       "  </thead>\n",
       "  <tbody>\n",
       "    <tr>\n",
       "      <th>0</th>\n",
       "      <td>켈리</td>\n",
       "      <td>SK</td>\n",
       "      <td>3.313623</td>\n",
       "      <td>1.227145</td>\n",
       "      <td>-0.306452</td>\n",
       "      <td>-0.585705</td>\n",
       "      <td>-0.543592</td>\n",
       "      <td>0.059433</td>\n",
       "      <td>2.452068</td>\n",
       "      <td>2.645175</td>\n",
       "      <td>...</td>\n",
       "      <td>-0.442382</td>\n",
       "      <td>0.016783</td>\n",
       "      <td>0.446615</td>\n",
       "      <td>-0.587056</td>\n",
       "      <td>3.174630</td>\n",
       "      <td>-0.971030</td>\n",
       "      <td>-1.058125</td>\n",
       "      <td>4.503142</td>\n",
       "      <td>140000</td>\n",
       "      <td>2.734705</td>\n",
       "    </tr>\n",
       "    <tr>\n",
       "      <th>1</th>\n",
       "      <td>소사</td>\n",
       "      <td>LG</td>\n",
       "      <td>2.019505</td>\n",
       "      <td>2.504721</td>\n",
       "      <td>-0.098502</td>\n",
       "      <td>-0.585705</td>\n",
       "      <td>-0.543592</td>\n",
       "      <td>0.059433</td>\n",
       "      <td>2.349505</td>\n",
       "      <td>2.547755</td>\n",
       "      <td>...</td>\n",
       "      <td>-0.668521</td>\n",
       "      <td>-0.241686</td>\n",
       "      <td>-0.122764</td>\n",
       "      <td>-0.519855</td>\n",
       "      <td>3.114968</td>\n",
       "      <td>-1.061888</td>\n",
       "      <td>-1.073265</td>\n",
       "      <td>4.094734</td>\n",
       "      <td>120000</td>\n",
       "      <td>1.337303</td>\n",
       "    </tr>\n",
       "    <tr>\n",
       "      <th>2</th>\n",
       "      <td>양현종</td>\n",
       "      <td>KIA</td>\n",
       "      <td>4.348918</td>\n",
       "      <td>0.907751</td>\n",
       "      <td>-0.306452</td>\n",
       "      <td>-0.585705</td>\n",
       "      <td>-0.543592</td>\n",
       "      <td>0.111056</td>\n",
       "      <td>2.554632</td>\n",
       "      <td>2.706808</td>\n",
       "      <td>...</td>\n",
       "      <td>-0.412886</td>\n",
       "      <td>-0.095595</td>\n",
       "      <td>0.308584</td>\n",
       "      <td>-0.625456</td>\n",
       "      <td>2.973948</td>\n",
       "      <td>-0.837415</td>\n",
       "      <td>-0.866361</td>\n",
       "      <td>3.761956</td>\n",
       "      <td>230000</td>\n",
       "      <td>5.329881</td>\n",
       "    </tr>\n",
       "    <tr>\n",
       "      <th>3</th>\n",
       "      <td>차우찬</td>\n",
       "      <td>LG</td>\n",
       "      <td>1.760682</td>\n",
       "      <td>1.227145</td>\n",
       "      <td>-0.306452</td>\n",
       "      <td>-0.585705</td>\n",
       "      <td>-0.543592</td>\n",
       "      <td>-0.043811</td>\n",
       "      <td>2.246942</td>\n",
       "      <td>2.350927</td>\n",
       "      <td>...</td>\n",
       "      <td>-0.186746</td>\n",
       "      <td>-0.477680</td>\n",
       "      <td>0.558765</td>\n",
       "      <td>-0.627856</td>\n",
       "      <td>2.740722</td>\n",
       "      <td>-0.698455</td>\n",
       "      <td>-0.760385</td>\n",
       "      <td>2.998081</td>\n",
       "      <td>100000</td>\n",
       "      <td>3.333592</td>\n",
       "    </tr>\n",
       "    <tr>\n",
       "      <th>4</th>\n",
       "      <td>레일리</td>\n",
       "      <td>롯데</td>\n",
       "      <td>2.537153</td>\n",
       "      <td>1.227145</td>\n",
       "      <td>-0.306452</td>\n",
       "      <td>-0.585705</td>\n",
       "      <td>-0.543592</td>\n",
       "      <td>0.059433</td>\n",
       "      <td>2.452068</td>\n",
       "      <td>2.587518</td>\n",
       "      <td>...</td>\n",
       "      <td>-0.294900</td>\n",
       "      <td>-0.196735</td>\n",
       "      <td>0.481122</td>\n",
       "      <td>-0.539055</td>\n",
       "      <td>2.751570</td>\n",
       "      <td>-0.612941</td>\n",
       "      <td>-0.619085</td>\n",
       "      <td>2.809003</td>\n",
       "      <td>111000</td>\n",
       "      <td>2.734705</td>\n",
       "    </tr>\n",
       "  </tbody>\n",
       "</table>\n",
       "<p>5 rows × 22 columns</p>\n",
       "</div>"
      ],
      "text/plain": [
       "   선수명   팀명         승         패         세        홀드        블론        경기  \\\n",
       "0   켈리   SK  3.313623  1.227145 -0.306452 -0.585705 -0.543592  0.059433   \n",
       "1   소사   LG  2.019505  2.504721 -0.098502 -0.585705 -0.543592  0.059433   \n",
       "2  양현종  KIA  4.348918  0.907751 -0.306452 -0.585705 -0.543592  0.111056   \n",
       "3  차우찬   LG  1.760682  1.227145 -0.306452 -0.585705 -0.543592 -0.043811   \n",
       "4  레일리   롯데  2.537153  1.227145 -0.306452 -0.585705 -0.543592  0.059433   \n",
       "\n",
       "         선발        이닝  ...      홈런/9     BABIP      LOB%       ERA   RA9-WAR  \\\n",
       "0  2.452068  2.645175  ... -0.442382  0.016783  0.446615 -0.587056  3.174630   \n",
       "1  2.349505  2.547755  ... -0.668521 -0.241686 -0.122764 -0.519855  3.114968   \n",
       "2  2.554632  2.706808  ... -0.412886 -0.095595  0.308584 -0.625456  2.973948   \n",
       "3  2.246942  2.350927  ... -0.186746 -0.477680  0.558765 -0.627856  2.740722   \n",
       "4  2.452068  2.587518  ... -0.294900 -0.196735  0.481122 -0.539055  2.751570   \n",
       "\n",
       "        FIP      kFIP       WAR       y  연봉(2017)  \n",
       "0 -0.971030 -1.058125  4.503142  140000  2.734705  \n",
       "1 -1.061888 -1.073265  4.094734  120000  1.337303  \n",
       "2 -0.837415 -0.866361  3.761956  230000  5.329881  \n",
       "3 -0.698455 -0.760385  2.998081  100000  3.333592  \n",
       "4 -0.612941 -0.619085  2.809003  111000  2.734705  \n",
       "\n",
       "[5 rows x 22 columns]"
      ]
     },
     "execution_count": 32,
     "metadata": {},
     "output_type": "execute_result"
    }
   ],
   "source": [
    "# 판다스 형태로 정의된 데이터를 출력할 때 scientific-notation이 아닌 float 모양으로 출력되게 해줍니다.\n",
    "pd.options.mode.chained_assignment = None\n",
    "\n",
    "# 피처 각각에 대한 스케일링을 수행하는 함수를 정의합니다.\n",
    "def standard_scaling(df, scale_columns):\n",
    "    for col in scale_columns:\n",
    "        series_mean = df[col].mean()\n",
    "        series_std = df[col].std()\n",
    "        df[col] = df[col].apply(lambda x: (x-series_mean)/series_std)\n",
    "    return df\n",
    "\n",
    "# 피처 각각에 대한 스케일링을 수행합니다.\n",
    "scale_columns = ['승', '패', '세', '홀드', '블론', '경기', '선발', '이닝', '삼진/9',\n",
    "       '볼넷/9', '홈런/9', 'BABIP', 'LOB%', 'ERA', 'RA9-WAR', 'FIP', 'kFIP', 'WAR',\n",
    "       '연봉(2017)']\n",
    "picher_df = standard_scaling(picher, scale_columns)\n",
    "\n",
    "picher_df = picher_df.rename(columns={'연봉(2018)': 'y'})\n",
    "picher_df.head(5)"
   ]
  },
  {
   "cell_type": "code",
   "execution_count": 33,
   "metadata": {
    "scrolled": true
   },
   "outputs": [
    {
     "data": {
      "text/html": [
       "<div>\n",
       "<style scoped>\n",
       "    .dataframe tbody tr th:only-of-type {\n",
       "        vertical-align: middle;\n",
       "    }\n",
       "\n",
       "    .dataframe tbody tr th {\n",
       "        vertical-align: top;\n",
       "    }\n",
       "\n",
       "    .dataframe thead th {\n",
       "        text-align: right;\n",
       "    }\n",
       "</style>\n",
       "<table border=\"1\" class=\"dataframe\">\n",
       "  <thead>\n",
       "    <tr style=\"text-align: right;\">\n",
       "      <th></th>\n",
       "      <th>KIA</th>\n",
       "      <th>KT</th>\n",
       "      <th>LG</th>\n",
       "      <th>NC</th>\n",
       "      <th>SK</th>\n",
       "      <th>두산</th>\n",
       "      <th>롯데</th>\n",
       "      <th>삼성</th>\n",
       "      <th>한화</th>\n",
       "    </tr>\n",
       "  </thead>\n",
       "  <tbody>\n",
       "    <tr>\n",
       "      <th>0</th>\n",
       "      <td>0</td>\n",
       "      <td>0</td>\n",
       "      <td>0</td>\n",
       "      <td>0</td>\n",
       "      <td>1</td>\n",
       "      <td>0</td>\n",
       "      <td>0</td>\n",
       "      <td>0</td>\n",
       "      <td>0</td>\n",
       "    </tr>\n",
       "    <tr>\n",
       "      <th>1</th>\n",
       "      <td>0</td>\n",
       "      <td>0</td>\n",
       "      <td>1</td>\n",
       "      <td>0</td>\n",
       "      <td>0</td>\n",
       "      <td>0</td>\n",
       "      <td>0</td>\n",
       "      <td>0</td>\n",
       "      <td>0</td>\n",
       "    </tr>\n",
       "    <tr>\n",
       "      <th>2</th>\n",
       "      <td>1</td>\n",
       "      <td>0</td>\n",
       "      <td>0</td>\n",
       "      <td>0</td>\n",
       "      <td>0</td>\n",
       "      <td>0</td>\n",
       "      <td>0</td>\n",
       "      <td>0</td>\n",
       "      <td>0</td>\n",
       "    </tr>\n",
       "    <tr>\n",
       "      <th>3</th>\n",
       "      <td>0</td>\n",
       "      <td>0</td>\n",
       "      <td>1</td>\n",
       "      <td>0</td>\n",
       "      <td>0</td>\n",
       "      <td>0</td>\n",
       "      <td>0</td>\n",
       "      <td>0</td>\n",
       "      <td>0</td>\n",
       "    </tr>\n",
       "    <tr>\n",
       "      <th>4</th>\n",
       "      <td>0</td>\n",
       "      <td>0</td>\n",
       "      <td>0</td>\n",
       "      <td>0</td>\n",
       "      <td>0</td>\n",
       "      <td>0</td>\n",
       "      <td>1</td>\n",
       "      <td>0</td>\n",
       "      <td>0</td>\n",
       "    </tr>\n",
       "  </tbody>\n",
       "</table>\n",
       "</div>"
      ],
      "text/plain": [
       "   KIA  KT  LG  NC  SK  두산  롯데  삼성  한화\n",
       "0    0   0   0   0   1   0   0   0   0\n",
       "1    0   0   1   0   0   0   0   0   0\n",
       "2    1   0   0   0   0   0   0   0   0\n",
       "3    0   0   1   0   0   0   0   0   0\n",
       "4    0   0   0   0   0   0   1   0   0"
      ]
     },
     "execution_count": 33,
     "metadata": {},
     "output_type": "execute_result"
    }
   ],
   "source": [
    "team_encoding = pd.get_dummies(picher_df['팀명'])\n",
    "picher_df = picher_df.drop('팀명', axis=1)\n",
    "picher_df = picher_df.join(team_encoding)\n",
    "team_encoding.head(5)"
   ]
  },
  {
   "cell_type": "code",
   "execution_count": 34,
   "metadata": {},
   "outputs": [],
   "source": [
    "from sklearn import linear_model\n",
    "from sklearn.model_selection import train_test_split\n",
    "from sklearn.metrics import mean_squared_error\n",
    "from math import sqrt\n",
    "\n",
    "#학습 데이터와 테스트 데이터로 분리합니다.\n",
    "X = picher_df[picher_df.columns.difference(['선수명', 'y'])]\n",
    "y = picher_df['y']\n",
    "X_train, X_test, y_train, y_test = train_test_split(X,y, test_size=0.2, random_state=19)"
   ]
  },
  {
   "cell_type": "code",
   "execution_count": 35,
   "metadata": {},
   "outputs": [
    {
     "name": "stdout",
     "output_type": "stream",
     "text": [
      "[ -1481.01733901   -416.68736601 -94136.23649209  -1560.86205158\n",
      "   1572.00472193   -747.04952389  -1375.53830289   -523.54687556\n",
      "   3959.10653661    898.37638984  10272.48746451  77672.53804469\n",
      "  -2434.38947427   -892.11801281    449.91117164   7612.15661812\n",
      "   1271.04500059  -2810.5564514    5396.97279896  -4797.30275904\n",
      "   -250.69773139    236.02530053  19130.59021357    854.02604585\n",
      "   1301.61974637   3613.84063182   -935.07281796  18144.60099745]\n"
     ]
    }
   ],
   "source": [
    "# 회귀 분석 계수 학습 (회귀 모델 학습)\n",
    "lr = linear_model.LinearRegression()\n",
    "model = lr.fit(X_train, y_train)\n",
    "\n",
    "# 학습된 게수를 출력\n",
    "print(lr.coef_)"
   ]
  },
  {
   "cell_type": "code",
   "execution_count": null,
   "metadata": {},
   "outputs": [],
   "source": []
  }
 ],
 "metadata": {
  "kernelspec": {
   "display_name": "Python 3",
   "language": "python",
   "name": "python3"
  },
  "language_info": {
   "codemirror_mode": {
    "name": "ipython",
    "version": 3
   },
   "file_extension": ".py",
   "mimetype": "text/x-python",
   "name": "python",
   "nbconvert_exporter": "python",
   "pygments_lexer": "ipython3",
   "version": "3.7.6"
  }
 },
 "nbformat": 4,
 "nbformat_minor": 4
}
