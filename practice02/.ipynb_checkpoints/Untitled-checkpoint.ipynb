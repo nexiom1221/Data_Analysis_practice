{
 "cells": [
  {
   "cell_type": "code",
   "execution_count": null,
   "metadata": {},
   "outputs": [],
   "source": [
    "import tweepy\n",
    "\n",
    "CONSUMER_KEY = \"nL2ru4NSCxqyxDQm9T3fIC6T5\"\n",
    "CONSUMER_SECRET = \"bNscT7OCk5e6zXwiLZeUJzf4loYiZCR7pbH0rCjFuyoDdUeeJS\"\n",
    "ACCESS_TOKEN_KEY = \"2942528282-raY7pdxCJMJxJNhQ89x6LklwCMENkuDKTYYZQdW\"\n",
    "ACCESS_TOKEN_SECRET = \"z3CUFcHgUMfbtnlxYXkebFu791pHFzRsKfGXc26BQ4ymB\"\n",
    "\n",
    "auth = tweepy.OAuthHandler(CONSUMER_KEY, CONSUMER_SECRET)\n",
    "\n",
    "auth.set_access_token(ACCESS_TOKEN_KEY, ACCESS_TOKEN_SECRET)\n",
    "\n",
    "api = tweepy.API(auth)\n",
    "\n",
    "keyword = \"손흥민\"\n",
    "tweets = api.search(keyword)\n",
    "for tweet in tweets:\n",
    "    print(tweet.entities['user_mentions'])\n",
    "    print(tweet.entities['hashtags'])\n",
    "    print(tweet.text)\n",
    "\n"
   ]
  }
 ],
 "metadata": {
  "kernelspec": {
   "display_name": "Python 3",
   "language": "python",
   "name": "python3"
  },
  "language_info": {
   "codemirror_mode": {
    "name": "ipython",
    "version": 3
   },
   "file_extension": ".py",
   "mimetype": "text/x-python",
   "name": "python",
   "nbconvert_exporter": "python",
   "pygments_lexer": "ipython3",
   "version": "3.7.6"
  }
 },
 "nbformat": 4,
 "nbformat_minor": 4
}
